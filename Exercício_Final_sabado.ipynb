{
  "nbformat": 4,
  "nbformat_minor": 0,
  "metadata": {
    "colab": {
      "provenance": [],
      "include_colab_link": true
    },
    "kernelspec": {
      "name": "python3",
      "display_name": "Python 3"
    },
    "language_info": {
      "name": "python"
    }
  },
  "cells": [
    {
      "cell_type": "markdown",
      "metadata": {
        "id": "view-in-github",
        "colab_type": "text"
      },
      "source": [
        "<a href=\"https://colab.research.google.com/github/rebecapassoss/OficinaColab/blob/main/Exerc%C3%ADcio_Final_sabado.ipynb\" target=\"_parent\"><img src=\"https://colab.research.google.com/assets/colab-badge.svg\" alt=\"Open In Colab\"/></a>"
      ]
    },
    {
      "cell_type": "markdown",
      "source": [
        "# Contagem de Medalhas\n",
        "\n",
        "Crie um programa que receba o número de medalhas de ouro, prata e bronze de um país nas Olimpíadas e calcule o total de medalhas.\n",
        "Quando escrever 'sair', o programa deverá encerrar e mostrar na tela o ranking de medalhas no formato:"
      ],
      "metadata": {
        "id": "RQN1e5FZY6SZ"
      }
    },
    {
      "cell_type": "code",
      "source": [
        "#Ranking de medalhas:\n",
        "#Brasil: 7 medalhas\n",
        "#França: 6 medalhas\n",
        "#Argentina: 3 medalhas"
      ],
      "metadata": {
        "id": "gCq_KLHzZSzb"
      },
      "execution_count": null,
      "outputs": []
    },
    {
      "cell_type": "code",
      "execution_count": null,
      "metadata": {
        "id": "AJJhjxiPTd5s"
      },
      "outputs": [],
      "source": [
        "# Resposta aqui\n",
        "\n",
        "dicionario = {}\n",
        "sum = 0\n",
        "\n",
        "while True:\n",
        "    pais = input(\"Digite o nome do país (ou 'sair' para encerrar): \")\n",
        "    if pais.lower() == \"sair\":\n",
        "        break\n",
        "    ouro = int(input(\"Número de medalhas de ouro'{}': \".format(pais)))\n",
        "    prata = int(input(\"Número de medalhas de prata'{}': \".format(pais)))\n",
        "    bronze = int(input(\"Número de medalhas de bronze'{}': \".format(pais)))\n",
        "\n",
        "    dicionario[pais] = {'ouro': ouro, 'prata': prata, 'bronze': bronze}\n",
        "\n",
        "    sum += ouro + prata + bronze\n",
        "\n",
        "for pais, medalhas in dicionario.items():\n",
        "    soma_medalhas = medalhas['ouro'] + medalhas['prata'] + medalhas['bronze']\n",
        "    print(f\"{pais}: {soma_medalhas} medalhas\")\n",
        "\n",
        "\n"
      ]
    }
  ]
}